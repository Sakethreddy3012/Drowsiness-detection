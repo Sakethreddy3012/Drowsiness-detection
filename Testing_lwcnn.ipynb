{
 "cells": [
  {
   "cell_type": "code",
   "execution_count": null,
   "metadata": {},
   "outputs": [],
   "source": []
  },
  {
   "cell_type": "code",
   "execution_count": 31,
   "metadata": {},
   "outputs": [],
   "source": [
    "#pip install tensorflow\n"
   ]
  },
  {
   "cell_type": "code",
   "execution_count": 36,
   "metadata": {},
   "outputs": [],
   "source": [
    "#pip install deepface\n"
   ]
  },
  {
   "cell_type": "code",
   "execution_count": 37,
   "metadata": {},
   "outputs": [
    {
     "name": "stdout",
     "output_type": "stream",
     "text": [
      "Requirement already satisfied: mediapipe in c:\\users\\gotti\\anaconda3\\lib\\site-packages (0.10.11)\n",
      "Requirement already satisfied: absl-py in c:\\users\\gotti\\anaconda3\\lib\\site-packages (from mediapipe) (2.1.0)\n",
      "Requirement already satisfied: attrs>=19.1.0 in c:\\users\\gotti\\anaconda3\\lib\\site-packages (from mediapipe) (22.1.0)\n",
      "Requirement already satisfied: flatbuffers>=2.0 in c:\\users\\gotti\\anaconda3\\lib\\site-packages (from mediapipe) (23.5.26)\n",
      "Requirement already satisfied: jax in c:\\users\\gotti\\anaconda3\\lib\\site-packages (from mediapipe) (0.4.26)\n",
      "Requirement already satisfied: matplotlib in c:\\users\\gotti\\anaconda3\\lib\\site-packages (from mediapipe) (3.7.2)\n",
      "Requirement already satisfied: numpy in c:\\users\\gotti\\anaconda3\\lib\\site-packages (from mediapipe) (1.24.3)\n",
      "Requirement already satisfied: opencv-contrib-python in c:\\users\\gotti\\anaconda3\\lib\\site-packages (from mediapipe) (4.9.0.80)\n",
      "Requirement already satisfied: protobuf<4,>=3.11 in c:\\users\\gotti\\anaconda3\\lib\\site-packages (from mediapipe) (3.20.3)\n",
      "Requirement already satisfied: sounddevice>=0.4.4 in c:\\users\\gotti\\anaconda3\\lib\\site-packages (from mediapipe) (0.4.6)\n",
      "Requirement already satisfied: CFFI>=1.0 in c:\\users\\gotti\\anaconda3\\lib\\site-packages (from sounddevice>=0.4.4->mediapipe) (1.15.1)\n",
      "Requirement already satisfied: ml-dtypes>=0.2.0 in c:\\users\\gotti\\anaconda3\\lib\\site-packages (from jax->mediapipe) (0.2.0)\n",
      "Requirement already satisfied: opt-einsum in c:\\users\\gotti\\anaconda3\\lib\\site-packages (from jax->mediapipe) (3.3.0)\n",
      "Requirement already satisfied: scipy>=1.9 in c:\\users\\gotti\\anaconda3\\lib\\site-packages (from jax->mediapipe) (1.11.1)\n",
      "Requirement already satisfied: contourpy>=1.0.1 in c:\\users\\gotti\\anaconda3\\lib\\site-packages (from matplotlib->mediapipe) (1.0.5)\n",
      "Requirement already satisfied: cycler>=0.10 in c:\\users\\gotti\\anaconda3\\lib\\site-packages (from matplotlib->mediapipe) (0.11.0)\n",
      "Requirement already satisfied: fonttools>=4.22.0 in c:\\users\\gotti\\anaconda3\\lib\\site-packages (from matplotlib->mediapipe) (4.25.0)\n",
      "Requirement already satisfied: kiwisolver>=1.0.1 in c:\\users\\gotti\\anaconda3\\lib\\site-packages (from matplotlib->mediapipe) (1.4.4)\n",
      "Requirement already satisfied: packaging>=20.0 in c:\\users\\gotti\\anaconda3\\lib\\site-packages (from matplotlib->mediapipe) (23.1)\n",
      "Requirement already satisfied: pillow>=6.2.0 in c:\\users\\gotti\\anaconda3\\lib\\site-packages (from matplotlib->mediapipe) (9.4.0)\n",
      "Requirement already satisfied: pyparsing<3.1,>=2.3.1 in c:\\users\\gotti\\anaconda3\\lib\\site-packages (from matplotlib->mediapipe) (3.0.9)\n",
      "Requirement already satisfied: python-dateutil>=2.7 in c:\\users\\gotti\\anaconda3\\lib\\site-packages (from matplotlib->mediapipe) (2.8.2)\n",
      "Requirement already satisfied: pycparser in c:\\users\\gotti\\anaconda3\\lib\\site-packages (from CFFI>=1.0->sounddevice>=0.4.4->mediapipe) (2.21)\n",
      "Requirement already satisfied: six>=1.5 in c:\\users\\gotti\\anaconda3\\lib\\site-packages (from python-dateutil>=2.7->matplotlib->mediapipe) (1.16.0)\n",
      "Note: you may need to restart the kernel to use updated packages.\n"
     ]
    }
   ],
   "source": [
    "pip install mediapipe"
   ]
  },
  {
   "cell_type": "code",
   "execution_count": 26,
   "metadata": {},
   "outputs": [
    {
     "name": "stdout",
     "output_type": "stream",
     "text": [
      "24-04-09 11:40:36 - Directory C:\\Users\\gotti/.deepface created\n",
      "24-04-09 11:40:36 - Directory C:\\Users\\gotti/.deepface/weights created\n"
     ]
    },
    {
     "ename": "ModuleNotFoundError",
     "evalue": "No module named 'mediapipe'",
     "output_type": "error",
     "traceback": [
      "\u001b[1;31m---------------------------------------------------------------------------\u001b[0m",
      "\u001b[1;31mModuleNotFoundError\u001b[0m                       Traceback (most recent call last)",
      "Cell \u001b[1;32mIn[26], line 12\u001b[0m\n\u001b[0;32m     10\u001b[0m \u001b[38;5;28;01mfrom\u001b[39;00m \u001b[38;5;21;01mmtcnn\u001b[39;00m \u001b[38;5;28;01mimport\u001b[39;00m MTCNN\n\u001b[0;32m     11\u001b[0m \u001b[38;5;28;01mimport\u001b[39;00m \u001b[38;5;21;01mmath\u001b[39;00m\n\u001b[1;32m---> 12\u001b[0m \u001b[38;5;28;01mimport\u001b[39;00m \u001b[38;5;21;01mmediapipe\u001b[39;00m \u001b[38;5;28;01mas\u001b[39;00m \u001b[38;5;21;01mmp\u001b[39;00m\n\u001b[0;32m     13\u001b[0m \u001b[38;5;28;01mfrom\u001b[39;00m \u001b[38;5;21;01mtensorflow\u001b[39;00m\u001b[38;5;21;01m.\u001b[39;00m\u001b[38;5;21;01mkeras\u001b[39;00m\u001b[38;5;21;01m.\u001b[39;00m\u001b[38;5;21;01mpreprocessing\u001b[39;00m\u001b[38;5;21;01m.\u001b[39;00m\u001b[38;5;21;01mimage\u001b[39;00m \u001b[38;5;28;01mimport\u001b[39;00m load_img, img_to_array\n",
      "\u001b[1;31mModuleNotFoundError\u001b[0m: No module named 'mediapipe'"
     ]
    }
   ],
   "source": [
    "import os\n",
    "import cv2\n",
    "import numpy as np\n",
    "import tensorflow as tf\n",
    "#from retinaface import RetinaFace\n",
    "\n",
    "from tensorflow.keras.models import load_model\n",
    "from deepface import DeepFace\n",
    "\n",
    "from mtcnn import MTCNN\n",
    "import math\n",
    "import mediapipe as mp\n",
    "from tensorflow.keras.preprocessing.image import load_img, img_to_array"
   ]
  },
  {
   "cell_type": "code",
   "execution_count": 2,
   "metadata": {},
   "outputs": [],
   "source": [
    "lwcnn = load_model(\"C:/Users/Charanteja/Design_project/lwcnn_v4.h5\")\n"
   ]
  },
  {
   "cell_type": "code",
   "execution_count": 3,
   "metadata": {},
   "outputs": [],
   "source": [
    "def channel_wise_histogram_equalization(image):\n",
    "    # Split the image into its color channels\n",
    "    b, g, r = cv2.split(image)\n",
    "\n",
    "    # Apply histogram equalization to each color channel\n",
    "    equalized_b = cv2.equalizeHist(b)\n",
    "    equalized_g = cv2.equalizeHist(g)\n",
    "    equalized_r = cv2.equalizeHist(r)\n",
    "\n",
    "    # Merge the equalized color channels\n",
    "    equalized_image = cv2.merge((equalized_b, equalized_g, equalized_r))\n",
    "\n",
    "    return equalized_image"
   ]
  },
  {
   "cell_type": "code",
   "execution_count": null,
   "metadata": {},
   "outputs": [],
   "source": [
    "import cv2\n",
    "import mediapipe as mp\n",
    "import numpy as np\n",
    "from keras.preprocessing.image import img_to_array\n",
    "\n",
    "# Function to detect faces and check for consistent \"drowsy\" prediction\n",
    "def detect_faces_with_alarm():\n",
    "    # Initialize MediaPipe Face Detection\n",
    "    mp_face_detection = mp.solutions.face_detection\n",
    "    face_detection = mp_face_detection.FaceDetection()\n",
    "\n",
    "    classes = ['active','drowsy','yawning']\n",
    "\n",
    "    # Flag to track consecutive 'drowsy' predictions\n",
    "    drowsy_count = 0\n",
    "\n",
    "    # Flag to indicate whether alarm is sounding\n",
    "    alarm_on = False\n",
    "\n",
    "    cam2 = cv2.VideoCapture(0)\n",
    "    while True:\n",
    "        ret, image = cam2.read()\n",
    "        image_rgb = cv2.cvtColor(image, cv2.COLOR_BGR2RGB)\n",
    "\n",
    "        # Perform face detection on the image\n",
    "        results = face_detection.process(image_rgb)\n",
    "\n",
    "        # Draw bounding boxes around detected faces\n",
    "        if results.detections:\n",
    "            for detection in results.detections:\n",
    "                bboxC = detection.location_data.relative_bounding_box\n",
    "                ih, iw, _ = image.shape\n",
    "\n",
    "                x, y, w, h = (\n",
    "                    int(bboxC.xmin * iw),\n",
    "                    int(bboxC.ymin * ih),\n",
    "                    int(bboxC.width * iw),\n",
    "                    int(bboxC.height * ih),\n",
    "                )\n",
    "                x, y, w, h = max(0, x), max(0, y), min(iw - x, w), min(ih - y, h)\n",
    "\n",
    "                # Change color if label is 'drowsy'\n",
    "                color = (0, 255, 0)  # Default color\n",
    "                text_color = (0, 255, 0)  # Default text color\n",
    "\n",
    "                cv2.rectangle(image, (x, y), (x + w, y + h), color, 2)\n",
    "                face = image[y:y + h, x:x + w]\n",
    "                face = channel_wise_histogram_equalization(face)\n",
    "                face = cv2.resize(face, (224, 224))\n",
    "                face = face.reshape(224, 224, 3)\n",
    "                face = np.array(img_to_array(face))\n",
    "                face = face / 255.0\n",
    "                face = np.expand_dims(face, axis=0)\n",
    "\n",
    "                # Make predictions\n",
    "                pred = lwcnn.predict(face)\n",
    "                predicted_score = round(np.max(pred) * 100, 2)\n",
    "                score_text = f'{predicted_score}%'\n",
    "\n",
    "                predicted_class = np.argmax(pred, axis=1)\n",
    "                label = classes[int(predicted_class)]\n",
    "                \n",
    "                # Change color to red if label is 'drowsy'\n",
    "                if label == 'drowsy':\n",
    "                    color = (0, 0, 255)\n",
    "                    text_color = (0, 0, 255)\n",
    "                    drowsy_count += 1\n",
    "                    if drowsy_count >= 5:  # If 'drowsy' for 5 consecutive frames or more\n",
    "                        alarm_on = True\n",
    "                        # Your code to activate alarm (e.g., sound an alarm)\n",
    "                        print(\"Drowsiness detected for 5 frames or more! Sound the alarm!\")\n",
    "\n",
    "                else:\n",
    "                    drowsy_count = 0\n",
    "                    alarm_on = False\n",
    "                    # Your code to deactivate alarm (e.g., stop the alarm sound)\n",
    "                \n",
    "                # Display text with the appropriate color\n",
    "                # cv2.putText(image, label, (x, y - 10), cv2.FONT_HERSHEY_SIMPLEX, 0.9, text_color, 2)\n",
    "                cv2.putText(image, f'{label} ({score_text})', (x, y - 10), cv2.FONT_HERSHEY_SIMPLEX, 0.9, text_color, 2)\n",
    "\n",
    "        cv2.imshow('Real_Time_Driver_Drowsiness_Detection', image)\n",
    "        \n",
    "        # If alarm is on, sound it for 5 seconds\n",
    "        if alarm_on:\n",
    "           \n",
    "            pass\n",
    "\n",
    "        if cv2.waitKey(27) & 0xFF == ord('q'):\n",
    "            break\n",
    "\n",
    "    cam2.release()\n",
    "    cv2.destroyAllWindows()\n",
    "\n",
    "detect_faces_with_alarm()\n"
   ]
  },
  {
   "cell_type": "code",
   "execution_count": null,
   "metadata": {},
   "outputs": [],
   "source": []
  }
 ],
 "metadata": {
  "kernelspec": {
   "display_name": "Python 3 (ipykernel)",
   "language": "python",
   "name": "python3"
  },
  "language_info": {
   "codemirror_mode": {
    "name": "ipython",
    "version": 3
   },
   "file_extension": ".py",
   "mimetype": "text/x-python",
   "name": "python",
   "nbconvert_exporter": "python",
   "pygments_lexer": "ipython3",
   "version": "3.11.5"
  }
 },
 "nbformat": 4,
 "nbformat_minor": 2
}
